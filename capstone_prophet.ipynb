{
 "cells": [
  {
   "cell_type": "code",
   "execution_count": 66,
   "metadata": {},
   "outputs": [],
   "source": [
    "import numpy as np \n",
    "import pandas as pd \n",
    "import matplotlib.pyplot as plt\n",
    "from prophet import Prophet\n",
    "import warnings\n",
    "import seaborn as sns\n",
    "from scipy.stats import pearsonr, spearmanr\n",
    "from statsmodels.graphics.tsaplots import plot_acf, plot_pacf\n",
    "from statsmodels.tsa.seasonal import seasonal_decompose\n",
    "from sklearn.metrics import root_mean_squared_error, mean_absolute_error\n",
    "from sklearn.model_selection import ParameterGrid\n",
    "from prophet.plot import plot_plotly, plot_components_plotly\n",
    "\n",
    "warnings.filterwarnings('ignore')"
   ]
  },
  {
   "cell_type": "markdown",
   "metadata": {},
   "source": [
    "### 01 - Prepare Dataset"
   ]
  },
  {
   "cell_type": "code",
   "execution_count": 2,
   "metadata": {},
   "outputs": [],
   "source": [
    "shelter_df = pd.read_csv('DHS_weekly.csv')\n",
    "\n",
    "column_dict = {'Date': 'ds',\n",
    "               'Total Individuals in Shelter': 'y'}\n",
    "\n",
    "shelter_df.rename(columns=column_dict, inplace=True)\n",
    "shelter_df['ds'] = pd.to_datetime(shelter_df['ds'], format='%m/%d/%Y')"
   ]
  },
  {
   "cell_type": "code",
   "execution_count": null,
   "metadata": {},
   "outputs": [],
   "source": [
    "shelter_df.tail()"
   ]
  },
  {
   "cell_type": "markdown",
   "metadata": {},
   "source": [
    "### Exploratory Data Analysis"
   ]
  },
  {
   "cell_type": "markdown",
   "metadata": {},
   "source": [
    "##### Time-Series Visualization"
   ]
  },
  {
   "cell_type": "code",
   "execution_count": null,
   "metadata": {},
   "outputs": [],
   "source": [
    "sns.lineplot(shelter_df, x='ds', y='y')"
   ]
  },
  {
   "cell_type": "markdown",
   "metadata": {},
   "source": [
    "2021-01-03 seems to be wrong. We'll remove it from our analysis."
   ]
  },
  {
   "cell_type": "code",
   "execution_count": 5,
   "metadata": {},
   "outputs": [],
   "source": [
    "shelter_df = shelter_df[:-1]"
   ]
  },
  {
   "cell_type": "code",
   "execution_count": null,
   "metadata": {},
   "outputs": [],
   "source": [
    "sns.lineplot(shelter_df, x='ds', y='y')"
   ]
  },
  {
   "cell_type": "markdown",
   "metadata": {},
   "source": [
    "#### Distribution of individuals in shelter"
   ]
  },
  {
   "cell_type": "code",
   "execution_count": null,
   "metadata": {},
   "outputs": [],
   "source": [
    "sns.histplot(shelter_df['y'], kde=True);"
   ]
  },
  {
   "cell_type": "markdown",
   "metadata": {},
   "source": [
    "#### Autocorrelation and Partial Autocorrelation"
   ]
  },
  {
   "cell_type": "code",
   "execution_count": null,
   "metadata": {},
   "outputs": [],
   "source": [
    "plot_acf(shelter_df.set_index('ds')[['y']]);\n",
    "plot_pacf(shelter_df.set_index('ds')[['y']]);\n"
   ]
  },
  {
   "cell_type": "markdown",
   "metadata": {},
   "source": [
    "The correlation to the day before is statiscally significant. Not with other lags."
   ]
  },
  {
   "cell_type": "markdown",
   "metadata": {},
   "source": [
    "#### Distribution of temperature"
   ]
  },
  {
   "cell_type": "code",
   "execution_count": null,
   "metadata": {},
   "outputs": [],
   "source": [
    "sns.histplot(shelter_df['Temperature'], kde=True);"
   ]
  },
  {
   "cell_type": "markdown",
   "metadata": {},
   "source": [
    "#### Relationship between temperature and people seeking shelter"
   ]
  },
  {
   "cell_type": "code",
   "execution_count": null,
   "metadata": {},
   "outputs": [],
   "source": [
    "sns.regplot(shelter_df, x='Temperature', y='y')"
   ]
  },
  {
   "cell_type": "markdown",
   "metadata": {},
   "source": [
    "There does not seem to be a correlation between the variables. However, removing the first and last months of data reveals an underlying correlation between them."
   ]
  },
  {
   "cell_type": "code",
   "execution_count": null,
   "metadata": {},
   "outputs": [],
   "source": [
    "sns.regplot(shelter_df[30:-30], x='Temperature', y='y');"
   ]
  },
  {
   "cell_type": "code",
   "execution_count": null,
   "metadata": {},
   "outputs": [],
   "source": [
    "pearsonr(shelter_df['Temperature'], shelter_df['y'])"
   ]
  },
  {
   "cell_type": "code",
   "execution_count": null,
   "metadata": {},
   "outputs": [],
   "source": [
    "spearmanr(shelter_df['Temperature'], shelter_df['y'])"
   ]
  },
  {
   "cell_type": "markdown",
   "metadata": {},
   "source": [
    "There is a statiscally significant negative correlation, though weak."
   ]
  },
  {
   "cell_type": "markdown",
   "metadata": {},
   "source": [
    "#### Seasonal Decomposition"
   ]
  },
  {
   "cell_type": "code",
   "execution_count": 15,
   "metadata": {},
   "outputs": [],
   "source": [
    "seasonal_decomposition = seasonal_decompose(shelter_df.set_index('ds')['y'])"
   ]
  },
  {
   "cell_type": "code",
   "execution_count": null,
   "metadata": {},
   "outputs": [],
   "source": [
    "seasonal_decomposition.seasonal[:110].plot();"
   ]
  },
  {
   "cell_type": "markdown",
   "metadata": {},
   "source": [
    "### 2 - Build the model"
   ]
  },
  {
   "cell_type": "markdown",
   "metadata": {},
   "source": [
    "#### Prepare holidays df"
   ]
  },
  {
   "cell_type": "code",
   "execution_count": null,
   "metadata": {},
   "outputs": [],
   "source": [
    "holidays = pd.DataFrame({\n",
    "    'holiday': 'Easter',\n",
    "    'ds': shelter_df['ds'][shelter_df['Easter'] == 1],\n",
    "    'lower_window': 0,\n",
    "    'upper_window': 1,\n",
    "})\n",
    "\n",
    "for holiday in ['Thanksgiving', 'Christmas']:\n",
    "    temp = pd.DataFrame({\n",
    "        'holiday': holiday,\n",
    "        'ds': shelter_df['ds'][shelter_df[holiday] == 1],\n",
    "        'lower_window': 0,\n",
    "        'upper_window': 1,\n",
    "    })\n",
    "    holidays = pd.concat([holidays, temp])\n",
    "\n",
    "holidays"
   ]
  },
  {
   "cell_type": "markdown",
   "metadata": {},
   "source": [
    "#### Split dataset"
   ]
  },
  {
   "cell_type": "code",
   "execution_count": 15,
   "metadata": {},
   "outputs": [],
   "source": [
    "df_train, df_test = shelter_df[:-13], shelter_df[-13:]"
   ]
  },
  {
   "cell_type": "code",
   "execution_count": null,
   "metadata": {},
   "outputs": [],
   "source": [
    "m = Prophet(holidays=holidays)\n",
    "m.add_regressor('Temperature')\n",
    "\n",
    "m.fit(df_train)"
   ]
  },
  {
   "cell_type": "code",
   "execution_count": null,
   "metadata": {},
   "outputs": [],
   "source": [
    "future_df = m.make_future_dataframe(periods=13, freq='W')\n",
    "future_df['ds'] = pd.to_datetime(future_df['ds'])\n",
    "future_df = future_df.merge(shelter_df[['ds', 'Temperature']], on='ds', how='left')\n",
    "future_df"
   ]
  },
  {
   "cell_type": "code",
   "execution_count": null,
   "metadata": {},
   "outputs": [],
   "source": [
    "predictions = m.predict(future_df)\n",
    "predictions = predictions.set_index('ds').join(shelter_df.set_index('ds')['y'])\n",
    "\n",
    "rmse = root_mean_squared_error(predictions['yhat'], predictions['y'])\n",
    "mae = mean_absolute_error(predictions['yhat'], predictions['y'])\n",
    "[rmse, mae]"
   ]
  },
  {
   "cell_type": "code",
   "execution_count": null,
   "metadata": {},
   "outputs": [],
   "source": [
    "plot_plotly(m, predictions.reset_index())"
   ]
  },
  {
   "cell_type": "code",
   "execution_count": null,
   "metadata": {},
   "outputs": [],
   "source": [
    "plot_components_plotly(m, predictions.reset_index())"
   ]
  },
  {
   "cell_type": "markdown",
   "metadata": {},
   "source": [
    "### Parameter Tuning"
   ]
  },
  {
   "cell_type": "code",
   "execution_count": 24,
   "metadata": {},
   "outputs": [],
   "source": [
    "param_grid = {'changepoint_prior_scale':[0.01, 0.1, 0.5],\n",
    "              'seasonality_prior_scale': [0.1, 1, 10],\n",
    "              'holidays_prior_scale': [0.1, 1, 10],\n",
    "              'seasonality_mode': ['additive', 'multiplicative']}\n",
    "\n",
    "all_params = list(ParameterGrid(param_grid))"
   ]
  },
  {
   "cell_type": "code",
   "execution_count": null,
   "metadata": {},
   "outputs": [],
   "source": [
    "from prophet.diagnostics import cross_validation, performance_metrics\n",
    "\n",
    "metrics_list = []\n",
    "for params in all_params:\n",
    "\n",
    "    m = Prophet(holidays=holidays, **params)\n",
    "    m.add_regressor('Temperature')\n",
    "\n",
    "    m.fit(df_train)\n",
    "\n",
    "    df_cv = cross_validation(model=m,\n",
    "                        period='42 days',\n",
    "                        initial='1500 days',\n",
    "                        horizon='91 days',\n",
    "                        parallel='processes')\n",
    "    \n",
    "    metrics = {'rmse': performance_metrics(df_cv, rolling_window=1)['rmse'].mean(), \n",
    "               'mape': performance_metrics(df_cv, rolling_window=1)['mape'].mean()}\n",
    "    \n",
    "    metrics_list.append(metrics)"
   ]
  },
  {
   "cell_type": "code",
   "execution_count": null,
   "metadata": {},
   "outputs": [],
   "source": [
    "params_df = pd.DataFrame(all_params)\n",
    "params_df[['rmse', 'mape']] = pd.DataFrame(metrics_list)\n",
    "params_df.query('rmse == rmse.min()')"
   ]
  },
  {
   "cell_type": "code",
   "execution_count": null,
   "metadata": {},
   "outputs": [],
   "source": [
    "best_params = params_df.query('rmse == rmse.min()').transpose()[:-2].to_dict()[36]\n",
    "best_params"
   ]
  },
  {
   "cell_type": "code",
   "execution_count": null,
   "metadata": {},
   "outputs": [],
   "source": [
    "m = Prophet(holidays=holidays, **best_params)\n",
    "m.add_regressor('Temperature')\n",
    "\n",
    "m.fit(df_train)\n",
    "\n",
    "df_cv = cross_validation(model=m,\n",
    "                        period='42 days',\n",
    "                        initial='1500 days',\n",
    "                        horizon='91 days',\n",
    "                        parallel='processes')"
   ]
  },
  {
   "cell_type": "code",
   "execution_count": 58,
   "metadata": {},
   "outputs": [],
   "source": [
    "predictions = m.predict(future_df)\n",
    "predictions = predictions.set_index('ds').join(shelter_df.set_index('ds')['y'])\n"
   ]
  },
  {
   "cell_type": "code",
   "execution_count": null,
   "metadata": {},
   "outputs": [],
   "source": [
    "plot_plotly(m, predictions.reset_index())"
   ]
  },
  {
   "cell_type": "code",
   "execution_count": null,
   "metadata": {},
   "outputs": [],
   "source": [
    "plot_components_plotly(m, predictions.reset_index())"
   ]
  }
 ],
 "metadata": {
  "kernelspec": {
   "display_name": ".venv",
   "language": "python",
   "name": "python3"
  },
  "language_info": {
   "codemirror_mode": {
    "name": "ipython",
    "version": 3
   },
   "file_extension": ".py",
   "mimetype": "text/x-python",
   "name": "python",
   "nbconvert_exporter": "python",
   "pygments_lexer": "ipython3",
   "version": "3.12.8"
  }
 },
 "nbformat": 4,
 "nbformat_minor": 2
}
