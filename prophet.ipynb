{
 "cells": [
  {
   "cell_type": "code",
   "execution_count": 42,
   "metadata": {},
   "outputs": [],
   "source": [
    "\n",
    "import numpy as np\n",
    "import pandas as pd\n",
    "import matplotlib.pyplot as plt\n",
    "import seaborn as sns\n",
    "from scipy.stats import pearsonr\n",
    "from scipy.stats import f_oneway\n",
    "from statsmodels.tsa.seasonal import seasonal_decompose\n",
    "from statsmodels.graphics.tsaplots import plot_acf, plot_pacf \n",
    "from prophet import Prophet\n",
    "import warnings"
   ]
  },
  {
   "cell_type": "code",
   "execution_count": 43,
   "metadata": {},
   "outputs": [],
   "source": [
    "warnings.filterwarnings('ignore')"
   ]
  },
  {
   "cell_type": "code",
   "execution_count": 44,
   "metadata": {},
   "outputs": [],
   "source": [
    "# Preprocessing\n",
    "\n",
    "df = pd.read_csv('bike_sharing_training.csv')\n",
    "df.rename(columns={'cnt': 'y', 'dteday': 'ds'}, inplace=True)\n",
    "\n",
    "df['ds'] = pd.to_datetime(df['ds'], format='%m/%d/%Y')\n",
    "df[['weathersit_2', 'weathersit_3']] = pd.get_dummies(df['weathersit'], drop_first=True)\n",
    "df.drop(columns=['instant', 'season', 'yr', 'mnth', 'weekday', 'casual', 'registered', 'weathersit'], \n",
    "        inplace=True)  # Remove unneeded variables\n",
    "\n",
    "df.set_index('ds', inplace=True)\n",
    "df.index.freq = 'D'"
   ]
  },
  {
   "cell_type": "markdown",
   "metadata": {},
   "source": [
    "## Exploratory Data Analysis"
   ]
  },
  {
   "cell_type": "code",
   "execution_count": null,
   "metadata": {},
   "outputs": [],
   "source": [
    "plt.figure(figsize=(10, 5))\n",
    "df['y'].plot()"
   ]
  },
  {
   "cell_type": "code",
   "execution_count": null,
   "metadata": {},
   "outputs": [],
   "source": [
    "# Which factors are correlated with the daily count of shared bikes?\n",
    "\n",
    "df.corr()[['y']].sort_values('y', ascending=False)"
   ]
  },
  {
   "cell_type": "code",
   "execution_count": null,
   "metadata": {},
   "outputs": [],
   "source": [
    "#What is the significance level of the variable associations with y?\n",
    "\n",
    "{'atemp': pearsonr(df['y'], df['atemp'])[1], \\\n",
    "'temp': pearsonr(df['y'], df['temp'])[1], \\\n",
    "'windspeed': pearsonr(df['y'], df['windspeed'])[1], \\\n",
    "'hum': pearsonr(df['y'], df['hum'])[1]}"
   ]
  },
  {
   "cell_type": "code",
   "execution_count": null,
   "metadata": {},
   "outputs": [],
   "source": [
    "# What is the mean count for each weathersit?\n",
    "df.pivot_table(index=['weathersit_2', 'weathersit_3'], values='y', aggfunc='mean').reset_index()"
   ]
  },
  {
   "cell_type": "code",
   "execution_count": null,
   "metadata": {},
   "outputs": [],
   "source": [
    "# What is the significance level of the difference of the means? (For weathersits 2 and 3) \n",
    "f_oneway(df[df['weathersit_2'] == True]['y'], \n",
    "         df[df['weathersit_3'] == True]['y'])[1]"
   ]
  },
  {
   "cell_type": "code",
   "execution_count": null,
   "metadata": {},
   "outputs": [],
   "source": [
    "# What is the mean count for each workingday status?\n",
    "df.pivot_table(index='workingday', values='y', aggfunc='mean')"
   ]
  },
  {
   "cell_type": "code",
   "execution_count": null,
   "metadata": {},
   "outputs": [],
   "source": [
    "# What is the significance level of the difference of the means?\n",
    "f_oneway(df[df['workingday'] == 1]['y'], \n",
    "         df[df['workingday'] == 0]['y'])[1]"
   ]
  },
  {
   "cell_type": "code",
   "execution_count": null,
   "metadata": {},
   "outputs": [],
   "source": [
    "# What is the mean count for each workingday status?\n",
    "df.pivot_table(index='holiday', values='y', aggfunc='mean')"
   ]
  },
  {
   "cell_type": "code",
   "execution_count": null,
   "metadata": {},
   "outputs": [],
   "source": [
    "# What is the significance level of the difference of the means?\n",
    "f_oneway(df[df['holiday'] == 1]['y'], \n",
    "         df[df['holiday'] == 0]['y'])[1]"
   ]
  },
  {
   "cell_type": "code",
   "execution_count": null,
   "metadata": {},
   "outputs": [],
   "source": [
    "y_decompose = seasonal_decompose(df['y'], model='additive',\n",
    "                   period=7)\n",
    "\n",
    "y_decompose.plot()\n",
    "plt.show()"
   ]
  },
  {
   "cell_type": "code",
   "execution_count": null,
   "metadata": {},
   "outputs": [],
   "source": [
    "y_decompose.seasonal[:7].plot()"
   ]
  },
  {
   "cell_type": "code",
   "execution_count": null,
   "metadata": {},
   "outputs": [],
   "source": [
    "plot_acf(df['y'], lags=100);\n",
    "plot_pacf(df['y'], lags=20);"
   ]
  },
  {
   "cell_type": "code",
   "execution_count": 57,
   "metadata": {},
   "outputs": [],
   "source": [
    "def add_holiday(holiday, holiday_date):\n",
    "\n",
    "    if holiday_date.__class__ == str:\n",
    "        ds = pd.to_datetime(['2011-'+holiday_date, '2012-'+holiday_date])\n",
    "    \n",
    "    elif holiday_date.__class__ == list:\n",
    "        ds = pd.to_datetime(holiday_date)\n",
    "    \n",
    "    elif holiday_date.__class__ == pd.core.indexes.datetimes.DatetimeIndex:\n",
    "        ds = holiday_date\n",
    "\n",
    "    holiday_df = pd.DataFrame({'holiday': holiday,\n",
    "                              'ds': ds,\n",
    "                              'lower_window': -3,\n",
    "                              'upper_window': 3})\n",
    "    \n",
    "    return holiday_df"
   ]
  },
  {
   "cell_type": "code",
   "execution_count": null,
   "metadata": {},
   "outputs": [],
   "source": [
    "gen_holidays = add_holiday('gen_holi', df[df['holiday']==1].index)\n",
    "xmas = add_holiday('christmas', '12-24')\n",
    "nye = add_holiday('new_year', '12-31')\n",
    "easter = add_holiday('easter', ['2011-04-24', '2012-04-08'])\n",
    "\n",
    "#Combine holidays\n",
    "holidays = pd.concat([gen_holidays, xmas, nye, easter]).set_index('ds')\n",
    "\n",
    "holidays.sort_index()#.asfreq('D')"
   ]
  },
  {
   "cell_type": "code",
   "execution_count": 59,
   "metadata": {},
   "outputs": [],
   "source": [
    "holidays.reset_index(inplace=True)\n",
    "df.reset_index(inplace=True)"
   ]
  },
  {
   "cell_type": "markdown",
   "metadata": {},
   "source": [
    "## Prophet Model"
   ]
  },
  {
   "cell_type": "code",
   "execution_count": null,
   "metadata": {},
   "outputs": [],
   "source": [
    "model = Prophet(yearly_seasonality=True,\n",
    "                weekly_seasonality=True,\n",
    "                holidays = holidays,\n",
    "                seasonality_mode = 'multiplicative',\n",
    "                seasonality_prior_scale=10,\n",
    "                holidays_prior_scale=10,\n",
    "                changepoint_prior_scale=0.05)\n",
    "\n",
    "model.add_regressor('workingday')\n",
    "model.add_regressor('atemp')\n",
    "model.add_regressor('temp')\n",
    "model.add_regressor('hum')\n",
    "model.add_regressor('windspeed')\n",
    "model.add_regressor('weathersit_2')\n",
    "model.add_regressor('weathersit_3')\n",
    "\n",
    "model.fit(df)"
   ]
  },
  {
   "cell_type": "code",
   "execution_count": 61,
   "metadata": {},
   "outputs": [],
   "source": [
    "from prophet.utilities import regressor_coefficients"
   ]
  },
  {
   "cell_type": "code",
   "execution_count": null,
   "metadata": {},
   "outputs": [],
   "source": [
    "regressor_coefficients(model)"
   ]
  },
  {
   "cell_type": "code",
   "execution_count": null,
   "metadata": {},
   "outputs": [],
   "source": [
    "from prophet.diagnostics import cross_validation\n",
    "\n",
    "# Apply CV to the model\n",
    "\n",
    "df_cv = cross_validation(model=model,\n",
    "                         period='15 days',\n",
    "                         initial=f'{df.shape[0]-180} days',\n",
    "                         horizon='30 days',\n",
    "                         parallel='processes')\n",
    "\n",
    "df_cv"
   ]
  },
  {
   "cell_type": "code",
   "execution_count": null,
   "metadata": {},
   "outputs": [],
   "source": [
    "from prophet.diagnostics import performance_metrics\n",
    "performance_metrics(df_cv)"
   ]
  },
  {
   "cell_type": "code",
   "execution_count": null,
   "metadata": {},
   "outputs": [],
   "source": [
    "{'rmse': performance_metrics(df_cv)['rmse'].mean(),\n",
    " 'mape': performance_metrics(df_cv)['mape'].mean()}"
   ]
  },
  {
   "cell_type": "code",
   "execution_count": null,
   "metadata": {},
   "outputs": [],
   "source": [
    "from prophet.plot import plot_cross_validation_metric\n",
    "\n",
    "plot_cross_validation_metric(df_cv, metric='mape');"
   ]
  },
  {
   "cell_type": "code",
   "execution_count": 67,
   "metadata": {},
   "outputs": [],
   "source": [
    "df_cv['deviation'] = df_cv['yhat'] - df_cv['y']"
   ]
  },
  {
   "cell_type": "code",
   "execution_count": null,
   "metadata": {},
   "outputs": [],
   "source": [
    "df_cv['deviation_%'] = (df_cv['yhat'] / df_cv['y']) - 1\n",
    "df_cv.sort_values('deviation_%', ascending=False).head(10)\n",
    "\n",
    "# On October 29th, 2012, Hurricane Sandy assaulted Washington D.C."
   ]
  },
  {
   "cell_type": "code",
   "execution_count": 69,
   "metadata": {},
   "outputs": [],
   "source": [
    "df.loc[df['ds']=='2012-10-29', 'y'] = df.loc[df['ds']=='2012-10-28', 'y']\n",
    "df.loc[df['ds']=='2012-10-30', 'y'] = df.loc[df['ds']=='2012-10-28', 'y']"
   ]
  },
  {
   "cell_type": "code",
   "execution_count": null,
   "metadata": {},
   "outputs": [],
   "source": [
    "model = Prophet(yearly_seasonality=True,\n",
    "                weekly_seasonality=True,\n",
    "                holidays = holidays,\n",
    "                seasonality_mode = 'multiplicative',\n",
    "                seasonality_prior_scale=10,\n",
    "                holidays_prior_scale=10,\n",
    "                changepoint_prior_scale=0.05)\n",
    "\n",
    "model.add_regressor('workingday')\n",
    "model.add_regressor('atemp')\n",
    "model.add_regressor('temp')\n",
    "model.add_regressor('hum')\n",
    "model.add_regressor('windspeed')\n",
    "model.add_regressor('weathersit_2')\n",
    "model.add_regressor('weathersit_3')\n",
    "\n",
    "model.fit(df)"
   ]
  },
  {
   "cell_type": "code",
   "execution_count": null,
   "metadata": {},
   "outputs": [],
   "source": [
    "from prophet.diagnostics import cross_validation\n",
    "\n",
    "# Apply CV to the model\n",
    "\n",
    "df_cv = cross_validation(model=model,\n",
    "                         period='15 days',\n",
    "                         initial=f'{df.shape[0]-180} days',\n",
    "                         horizon='30 days',\n",
    "                         parallel='processes')\n",
    "\n",
    "df_cv"
   ]
  },
  {
   "cell_type": "code",
   "execution_count": null,
   "metadata": {},
   "outputs": [],
   "source": [
    "{'rmse': performance_metrics(df_cv)['rmse'].mean(),\n",
    " 'mape': performance_metrics(df_cv)['mape'].mean()}"
   ]
  },
  {
   "cell_type": "code",
   "execution_count": null,
   "metadata": {},
   "outputs": [],
   "source": [
    "plot_cross_validation_metric(df_cv, metric='mape');"
   ]
  },
  {
   "cell_type": "markdown",
   "metadata": {},
   "source": [
    "## Feature Engineering"
   ]
  },
  {
   "cell_type": "code",
   "execution_count": null,
   "metadata": {},
   "outputs": [],
   "source": [
    "for lag in range(1, 9, 2):\n",
    "    df[f'temp_lag_{lag}'] = df['temp'].shift(lag)\n",
    "    df[f'atemp_lag_{lag}'] = df['atemp'].shift(lag)\n",
    "\n",
    "df.corr()[['y']]"
   ]
  },
  {
   "cell_type": "code",
   "execution_count": null,
   "metadata": {},
   "outputs": [],
   "source": [
    "model = Prophet(yearly_seasonality=True,\n",
    "                weekly_seasonality=True,\n",
    "                holidays = holidays,\n",
    "                seasonality_mode = 'multiplicative',\n",
    "                seasonality_prior_scale=10,\n",
    "                holidays_prior_scale=10,\n",
    "                changepoint_prior_scale=0.05)\n",
    "\n",
    "model.add_regressor('workingday')\n",
    "model.add_regressor('atemp')\n",
    "model.add_regressor('temp')\n",
    "model.add_regressor('hum')\n",
    "model.add_regressor('windspeed')\n",
    "model.add_regressor('weathersit_2')\n",
    "model.add_regressor('weathersit_3')\n",
    "model.add_regressor('temp_lag_1')\n",
    "\n",
    "model.fit(df.dropna())"
   ]
  },
  {
   "cell_type": "code",
   "execution_count": null,
   "metadata": {},
   "outputs": [],
   "source": [
    "from prophet.diagnostics import cross_validation\n",
    "\n",
    "# Apply CV to the model\n",
    "\n",
    "df_cv = cross_validation(model=model,\n",
    "                         period='15 days',\n",
    "                         initial=f'{df.shape[0]-180} days',\n",
    "                         horizon='30 days',\n",
    "                         parallel='processes')\n",
    "\n",
    "df_cv"
   ]
  },
  {
   "cell_type": "code",
   "execution_count": null,
   "metadata": {},
   "outputs": [],
   "source": [
    "{'rmse': performance_metrics(df_cv)['rmse'].mean(),\n",
    " 'mape': performance_metrics(df_cv)['mape'].mean()}"
   ]
  },
  {
   "cell_type": "markdown",
   "metadata": {},
   "source": [
    "## Parameter Tuning"
   ]
  },
  {
   "cell_type": "code",
   "execution_count": 78,
   "metadata": {},
   "outputs": [],
   "source": [
    "from sklearn.model_selection import ParameterGrid\n",
    "\n",
    "param_grid = {'changepoint_prior_scale': [0.05, 0.5],\n",
    "              'seasonality_prior_scale': [10, 20],\n",
    "              'holidays_prior_scale':[10, 20],\n",
    "              'seasonality_mode': ['additive', 'multiplicative']}\n",
    "\n",
    "all_params = list(ParameterGrid(param_grid))"
   ]
  },
  {
   "cell_type": "code",
   "execution_count": null,
   "metadata": {},
   "outputs": [],
   "source": [
    "tuning_results = []\n",
    "\n",
    "for params in all_params:\n",
    "    \n",
    "    model = Prophet(yearly_seasonality=True,\n",
    "                weekly_seasonality=True,\n",
    "                holidays = holidays,\n",
    "                seasonality_mode = params['seasonality_mode'],\n",
    "                seasonality_prior_scale=params['seasonality_prior_scale'],\n",
    "                holidays_prior_scale=params['holidays_prior_scale'],\n",
    "                changepoint_prior_scale=params['changepoint_prior_scale'])\n",
    "\n",
    "    model.add_regressor('workingday')\n",
    "    model.add_regressor('atemp')\n",
    "    model.add_regressor('temp')\n",
    "    model.add_regressor('hum')\n",
    "    model.add_regressor('windspeed')\n",
    "    model.add_regressor('weathersit_2')\n",
    "    model.add_regressor('weathersit_3')\n",
    "    model.add_regressor('temp_lag_1')\n",
    "\n",
    "    model.fit(df.dropna())\n",
    "\n",
    "    df_cv = cross_validation(model=model,\n",
    "                         period='15 days',\n",
    "                         initial=f'{df.shape[0]-180} days',\n",
    "                         horizon='30 days',\n",
    "                         parallel='processes')\n",
    "\n",
    "\n",
    "    metrics = {'rmse': performance_metrics(df_cv)['rmse'].mean(),\n",
    "    'mape': performance_metrics(df_cv)['mape'].mean()}\n",
    "\n",
    "    tuning_results.append(metrics)"
   ]
  },
  {
   "cell_type": "code",
   "execution_count": null,
   "metadata": {},
   "outputs": [],
   "source": [
    "outcomes = pd.DataFrame(all_params)\n",
    "outcomes['rmse'] = [x['rmse'] for x in tuning_results]\n",
    "outcomes['mape'] = [x['mape'] for x in tuning_results]\n",
    "best_params = all_params[outcomes.query('rmse == rmse.min()').index.to_list()[0]]\n",
    "best_params"
   ]
  }
 ],
 "metadata": {
  "kernelspec": {
   "display_name": ".venv",
   "language": "python",
   "name": "python3"
  },
  "language_info": {
   "codemirror_mode": {
    "name": "ipython",
    "version": 3
   },
   "file_extension": ".py",
   "mimetype": "text/x-python",
   "name": "python",
   "nbconvert_exporter": "python",
   "pygments_lexer": "ipython3",
   "version": "3.12.8"
  }
 },
 "nbformat": 4,
 "nbformat_minor": 2
}
